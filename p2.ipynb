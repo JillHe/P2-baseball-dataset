{
 "cells": [
  {
   "cell_type": "markdown",
   "metadata": {},
   "source": [
    "## Project2  探索数据集"
   ]
  },
  {
   "cell_type": "markdown",
   "metadata": {},
   "source": [
    "* 从seanlahman.com下载棒球赛数据集，包括从 1871 年到 2014年完整的棒球赛数据，包括击球、投球、防守、排名、球队、管理记录、季后赛等27个文件，我只选择了一部分相对感兴趣的数据集进行分析。\n",
    "* 以下包括分析过程的几个步骤：\n",
    "    1、提出问题\n",
    "    2、数据整理\n",
    "    3、探索阶段\n",
    "    4、结论\n",
    "    5、沟通"
   ]
  },
  {
   "cell_type": "markdown",
   "metadata": {},
   "source": [
    "### 提出问题"
   ]
  },
  {
   "cell_type": "markdown",
   "metadata": {},
   "source": [
    "首先从几个方面入手，在master table中展示了球员的一些个人信息，包括出生年月地区、身高体重等。我首先想到《异类》（outliers）一书中提到的马太效应，由于年龄分组日的影响，进入到职业联盟的运动员可能在出生月份上呈现趋势，我非常想要验证这点，所以在接下来的问题和分析中会做出解释；\n",
    "\n",
    "其次我也想要了解，不同的体育项目运动员的身材也有所不同，那么棒球运动员的身型是怎样的，而且，随着竞技体育的发展，运动员的平均身高体重在这些年间有过变化么？\n",
    "\n",
    "\n",
    "所以首先提出两个问题：\n",
    "* 运动员在几月出生？是否有集中月份？\n",
    "* 棒球运动员的身高体重是怎样的？不同时代的运动员身高体重是否有所不同？"
   ]
  },
  {
   "cell_type": "markdown",
   "metadata": {},
   "source": [
    "### 数据整理"
   ]
  },
  {
   "cell_type": "code",
   "execution_count": 16,
   "metadata": {},
   "outputs": [
    {
     "name": "stdout",
     "output_type": "stream",
     "text": [
      "Populating the interactive namespace from numpy and matplotlib\n"
     ]
    }
   ],
   "source": [
    "# 首先import需要用到的libraries\n",
    "import pandas as pd\n",
    "import numpy as np\n",
    "import matplotlib.pyplot as plt\n",
    "import seaborn as sns\n",
    "%pylab inline"
   ]
  },
  {
   "cell_type": "markdown",
   "metadata": {},
   "source": [
    "#### 问题1 ：运动员的出生月份\n",
    "\n",
    "#### 文件：Master.csv"
   ]
  },
  {
   "cell_type": "code",
   "execution_count": 17,
   "metadata": {},
   "outputs": [
    {
     "data": {
      "text/html": [
       "<div>\n",
       "<style>\n",
       "    .dataframe thead tr:only-child th {\n",
       "        text-align: right;\n",
       "    }\n",
       "\n",
       "    .dataframe thead th {\n",
       "        text-align: left;\n",
       "    }\n",
       "\n",
       "    .dataframe tbody tr th {\n",
       "        vertical-align: top;\n",
       "    }\n",
       "</style>\n",
       "<table border=\"1\" class=\"dataframe\">\n",
       "  <thead>\n",
       "    <tr style=\"text-align: right;\">\n",
       "      <th></th>\n",
       "      <th>playerID</th>\n",
       "      <th>birthYear</th>\n",
       "      <th>birthMonth</th>\n",
       "      <th>birthDay</th>\n",
       "      <th>birthCountry</th>\n",
       "      <th>birthState</th>\n",
       "      <th>birthCity</th>\n",
       "      <th>deathYear</th>\n",
       "      <th>deathMonth</th>\n",
       "      <th>deathDay</th>\n",
       "      <th>...</th>\n",
       "      <th>nameLast</th>\n",
       "      <th>nameGiven</th>\n",
       "      <th>weight</th>\n",
       "      <th>height</th>\n",
       "      <th>bats</th>\n",
       "      <th>throws</th>\n",
       "      <th>debut</th>\n",
       "      <th>finalGame</th>\n",
       "      <th>retroID</th>\n",
       "      <th>bbrefID</th>\n",
       "    </tr>\n",
       "  </thead>\n",
       "  <tbody>\n",
       "    <tr>\n",
       "      <th>0</th>\n",
       "      <td>aardsda01</td>\n",
       "      <td>1981.0</td>\n",
       "      <td>12.0</td>\n",
       "      <td>27.0</td>\n",
       "      <td>USA</td>\n",
       "      <td>CO</td>\n",
       "      <td>Denver</td>\n",
       "      <td>NaN</td>\n",
       "      <td>NaN</td>\n",
       "      <td>NaN</td>\n",
       "      <td>...</td>\n",
       "      <td>Aardsma</td>\n",
       "      <td>David Allan</td>\n",
       "      <td>215.0</td>\n",
       "      <td>75.0</td>\n",
       "      <td>R</td>\n",
       "      <td>R</td>\n",
       "      <td>2004-04-06</td>\n",
       "      <td>2015-08-23</td>\n",
       "      <td>aardd001</td>\n",
       "      <td>aardsda01</td>\n",
       "    </tr>\n",
       "    <tr>\n",
       "      <th>1</th>\n",
       "      <td>aaronha01</td>\n",
       "      <td>1934.0</td>\n",
       "      <td>2.0</td>\n",
       "      <td>5.0</td>\n",
       "      <td>USA</td>\n",
       "      <td>AL</td>\n",
       "      <td>Mobile</td>\n",
       "      <td>NaN</td>\n",
       "      <td>NaN</td>\n",
       "      <td>NaN</td>\n",
       "      <td>...</td>\n",
       "      <td>Aaron</td>\n",
       "      <td>Henry Louis</td>\n",
       "      <td>180.0</td>\n",
       "      <td>72.0</td>\n",
       "      <td>R</td>\n",
       "      <td>R</td>\n",
       "      <td>1954-04-13</td>\n",
       "      <td>1976-10-03</td>\n",
       "      <td>aaroh101</td>\n",
       "      <td>aaronha01</td>\n",
       "    </tr>\n",
       "    <tr>\n",
       "      <th>2</th>\n",
       "      <td>aaronto01</td>\n",
       "      <td>1939.0</td>\n",
       "      <td>8.0</td>\n",
       "      <td>5.0</td>\n",
       "      <td>USA</td>\n",
       "      <td>AL</td>\n",
       "      <td>Mobile</td>\n",
       "      <td>1984.0</td>\n",
       "      <td>8.0</td>\n",
       "      <td>16.0</td>\n",
       "      <td>...</td>\n",
       "      <td>Aaron</td>\n",
       "      <td>Tommie Lee</td>\n",
       "      <td>190.0</td>\n",
       "      <td>75.0</td>\n",
       "      <td>R</td>\n",
       "      <td>R</td>\n",
       "      <td>1962-04-10</td>\n",
       "      <td>1971-09-26</td>\n",
       "      <td>aarot101</td>\n",
       "      <td>aaronto01</td>\n",
       "    </tr>\n",
       "    <tr>\n",
       "      <th>3</th>\n",
       "      <td>aasedo01</td>\n",
       "      <td>1954.0</td>\n",
       "      <td>9.0</td>\n",
       "      <td>8.0</td>\n",
       "      <td>USA</td>\n",
       "      <td>CA</td>\n",
       "      <td>Orange</td>\n",
       "      <td>NaN</td>\n",
       "      <td>NaN</td>\n",
       "      <td>NaN</td>\n",
       "      <td>...</td>\n",
       "      <td>Aase</td>\n",
       "      <td>Donald William</td>\n",
       "      <td>190.0</td>\n",
       "      <td>75.0</td>\n",
       "      <td>R</td>\n",
       "      <td>R</td>\n",
       "      <td>1977-07-26</td>\n",
       "      <td>1990-10-03</td>\n",
       "      <td>aased001</td>\n",
       "      <td>aasedo01</td>\n",
       "    </tr>\n",
       "    <tr>\n",
       "      <th>4</th>\n",
       "      <td>abadan01</td>\n",
       "      <td>1972.0</td>\n",
       "      <td>8.0</td>\n",
       "      <td>25.0</td>\n",
       "      <td>USA</td>\n",
       "      <td>FL</td>\n",
       "      <td>Palm Beach</td>\n",
       "      <td>NaN</td>\n",
       "      <td>NaN</td>\n",
       "      <td>NaN</td>\n",
       "      <td>...</td>\n",
       "      <td>Abad</td>\n",
       "      <td>Fausto Andres</td>\n",
       "      <td>184.0</td>\n",
       "      <td>73.0</td>\n",
       "      <td>L</td>\n",
       "      <td>L</td>\n",
       "      <td>2001-09-10</td>\n",
       "      <td>2006-04-13</td>\n",
       "      <td>abada001</td>\n",
       "      <td>abadan01</td>\n",
       "    </tr>\n",
       "  </tbody>\n",
       "</table>\n",
       "<p>5 rows × 24 columns</p>\n",
       "</div>"
      ],
      "text/plain": [
       "    playerID  birthYear  birthMonth  birthDay birthCountry birthState  \\\n",
       "0  aardsda01     1981.0        12.0      27.0          USA         CO   \n",
       "1  aaronha01     1934.0         2.0       5.0          USA         AL   \n",
       "2  aaronto01     1939.0         8.0       5.0          USA         AL   \n",
       "3   aasedo01     1954.0         9.0       8.0          USA         CA   \n",
       "4   abadan01     1972.0         8.0      25.0          USA         FL   \n",
       "\n",
       "    birthCity  deathYear  deathMonth  deathDay    ...     nameLast  \\\n",
       "0      Denver        NaN         NaN       NaN    ...      Aardsma   \n",
       "1      Mobile        NaN         NaN       NaN    ...        Aaron   \n",
       "2      Mobile     1984.0         8.0      16.0    ...        Aaron   \n",
       "3      Orange        NaN         NaN       NaN    ...         Aase   \n",
       "4  Palm Beach        NaN         NaN       NaN    ...         Abad   \n",
       "\n",
       "        nameGiven weight height bats throws       debut   finalGame   retroID  \\\n",
       "0     David Allan  215.0   75.0    R      R  2004-04-06  2015-08-23  aardd001   \n",
       "1     Henry Louis  180.0   72.0    R      R  1954-04-13  1976-10-03  aaroh101   \n",
       "2      Tommie Lee  190.0   75.0    R      R  1962-04-10  1971-09-26  aarot101   \n",
       "3  Donald William  190.0   75.0    R      R  1977-07-26  1990-10-03  aased001   \n",
       "4   Fausto Andres  184.0   73.0    L      L  2001-09-10  2006-04-13  abada001   \n",
       "\n",
       "     bbrefID  \n",
       "0  aardsda01  \n",
       "1  aaronha01  \n",
       "2  aaronto01  \n",
       "3   aasedo01  \n",
       "4   abadan01  \n",
       "\n",
       "[5 rows x 24 columns]"
      ]
     },
     "execution_count": 17,
     "metadata": {},
     "output_type": "execute_result"
    }
   ],
   "source": [
    "# 读取csv文件\n",
    "master_df = pd.read_csv('Master.csv')\n",
    "\n",
    "# 返回前几行查看一下\n",
    "master_df.head()"
   ]
  },
  {
   "cell_type": "code",
   "execution_count": 18,
   "metadata": {},
   "outputs": [
    {
     "data": {
      "text/plain": [
       "(19105, 24)"
      ]
     },
     "execution_count": 18,
     "metadata": {},
     "output_type": "execute_result"
    }
   ],
   "source": [
    "# 看一下数据总行列数\n",
    "master_df.shape"
   ]
  },
  {
   "cell_type": "code",
   "execution_count": 19,
   "metadata": {},
   "outputs": [
    {
     "data": {
      "text/plain": [
       "playerID           0\n",
       "birthYear        132\n",
       "birthMonth       302\n",
       "birthDay         449\n",
       "birthCountry      69\n",
       "birthState       571\n",
       "birthCity        180\n",
       "deathYear       9664\n",
       "deathMonth      9665\n",
       "deathDay        9666\n",
       "deathCountry    9669\n",
       "deathState      9715\n",
       "deathCity       9674\n",
       "nameFirst         37\n",
       "nameLast           0\n",
       "nameGiven         37\n",
       "weight           854\n",
       "height           785\n",
       "bats            1185\n",
       "throws           979\n",
       "debut            195\n",
       "finalGame        195\n",
       "retroID           56\n",
       "bbrefID            2\n",
       "dtype: int64"
      ]
     },
     "execution_count": 19,
     "metadata": {},
     "output_type": "execute_result"
    }
   ],
   "source": [
    "# 看一下数据缺失的情况\n",
    "master_df.isnull().sum()"
   ]
  },
  {
   "cell_type": "markdown",
   "metadata": {},
   "source": [
    "从数据缺失情况看，在19105条数据中， playerID 和 nameLast 最为完整。和death相关的数据有较多空白，因为只有过世的运动员才有这部分数据。"
   ]
  },
  {
   "cell_type": "code",
   "execution_count": 20,
   "metadata": {},
   "outputs": [
    {
     "name": "stdout",
     "output_type": "stream",
     "text": [
      "(18803, 2)\n"
     ]
    },
    {
     "data": {
      "text/html": [
       "<div>\n",
       "<style>\n",
       "    .dataframe thead tr:only-child th {\n",
       "        text-align: right;\n",
       "    }\n",
       "\n",
       "    .dataframe thead th {\n",
       "        text-align: left;\n",
       "    }\n",
       "\n",
       "    .dataframe tbody tr th {\n",
       "        vertical-align: top;\n",
       "    }\n",
       "</style>\n",
       "<table border=\"1\" class=\"dataframe\">\n",
       "  <thead>\n",
       "    <tr style=\"text-align: right;\">\n",
       "      <th></th>\n",
       "      <th>playerID</th>\n",
       "      <th>birthMonth</th>\n",
       "    </tr>\n",
       "  </thead>\n",
       "  <tbody>\n",
       "    <tr>\n",
       "      <th>0</th>\n",
       "      <td>aardsda01</td>\n",
       "      <td>12.0</td>\n",
       "    </tr>\n",
       "    <tr>\n",
       "      <th>1</th>\n",
       "      <td>aaronha01</td>\n",
       "      <td>2.0</td>\n",
       "    </tr>\n",
       "    <tr>\n",
       "      <th>2</th>\n",
       "      <td>aaronto01</td>\n",
       "      <td>8.0</td>\n",
       "    </tr>\n",
       "    <tr>\n",
       "      <th>3</th>\n",
       "      <td>aasedo01</td>\n",
       "      <td>9.0</td>\n",
       "    </tr>\n",
       "    <tr>\n",
       "      <th>4</th>\n",
       "      <td>abadan01</td>\n",
       "      <td>8.0</td>\n",
       "    </tr>\n",
       "  </tbody>\n",
       "</table>\n",
       "</div>"
      ],
      "text/plain": [
       "    playerID  birthMonth\n",
       "0  aardsda01        12.0\n",
       "1  aaronha01         2.0\n",
       "2  aaronto01         8.0\n",
       "3   aasedo01         9.0\n",
       "4   abadan01         8.0"
      ]
     },
     "execution_count": 20,
     "metadata": {},
     "output_type": "execute_result"
    }
   ],
   "source": [
    "# 分析出生月份，只需要两列\n",
    "birthmonth_raw = master_df[['playerID','birthMonth']]\n",
    "\n",
    "# 删除缺失的行\n",
    "birthmonth_df = birthmonth_raw.dropna()\n",
    "\n",
    "print birthmonth_df.shape\n",
    "birthmonth_df.head()"
   ]
  },
  {
   "cell_type": "markdown",
   "metadata": {},
   "source": [
    "#### 问题2：棒球运动员的身高、体重\n",
    "#### 文件：Master.csv"
   ]
  },
  {
   "cell_type": "code",
   "execution_count": 51,
   "metadata": {},
   "outputs": [
    {
     "name": "stdout",
     "output_type": "stream",
     "text": [
      "(18187, 4)\n"
     ]
    },
    {
     "data": {
      "text/html": [
       "<div>\n",
       "<style>\n",
       "    .dataframe thead tr:only-child th {\n",
       "        text-align: right;\n",
       "    }\n",
       "\n",
       "    .dataframe thead th {\n",
       "        text-align: left;\n",
       "    }\n",
       "\n",
       "    .dataframe tbody tr th {\n",
       "        vertical-align: top;\n",
       "    }\n",
       "</style>\n",
       "<table border=\"1\" class=\"dataframe\">\n",
       "  <thead>\n",
       "    <tr style=\"text-align: right;\">\n",
       "      <th></th>\n",
       "      <th>playerID</th>\n",
       "      <th>birthYear</th>\n",
       "      <th>height</th>\n",
       "      <th>weight</th>\n",
       "    </tr>\n",
       "  </thead>\n",
       "  <tbody>\n",
       "    <tr>\n",
       "      <th>0</th>\n",
       "      <td>aardsda01</td>\n",
       "      <td>1981.0</td>\n",
       "      <td>75.0</td>\n",
       "      <td>215.0</td>\n",
       "    </tr>\n",
       "    <tr>\n",
       "      <th>1</th>\n",
       "      <td>aaronha01</td>\n",
       "      <td>1934.0</td>\n",
       "      <td>72.0</td>\n",
       "      <td>180.0</td>\n",
       "    </tr>\n",
       "    <tr>\n",
       "      <th>2</th>\n",
       "      <td>aaronto01</td>\n",
       "      <td>1939.0</td>\n",
       "      <td>75.0</td>\n",
       "      <td>190.0</td>\n",
       "    </tr>\n",
       "    <tr>\n",
       "      <th>3</th>\n",
       "      <td>aasedo01</td>\n",
       "      <td>1954.0</td>\n",
       "      <td>75.0</td>\n",
       "      <td>190.0</td>\n",
       "    </tr>\n",
       "    <tr>\n",
       "      <th>4</th>\n",
       "      <td>abadan01</td>\n",
       "      <td>1972.0</td>\n",
       "      <td>73.0</td>\n",
       "      <td>184.0</td>\n",
       "    </tr>\n",
       "  </tbody>\n",
       "</table>\n",
       "</div>"
      ],
      "text/plain": [
       "    playerID  birthYear  height  weight\n",
       "0  aardsda01     1981.0    75.0   215.0\n",
       "1  aaronha01     1934.0    72.0   180.0\n",
       "2  aaronto01     1939.0    75.0   190.0\n",
       "3   aasedo01     1954.0    75.0   190.0\n",
       "4   abadan01     1972.0    73.0   184.0"
      ]
     },
     "execution_count": 51,
     "metadata": {},
     "output_type": "execute_result"
    }
   ],
   "source": [
    "# 分析身高体重，保留必要的列\n",
    "height_and_weight_raw = master_df[['playerID','birthYear','height','weight']]\n",
    "\n",
    "# 删除出生年份、身高、体重中缺失数据的行\n",
    "height_and_weight_df = height_and_weight_raw.dropna()\n",
    "\n",
    "print height_and_weight_df.shape\n",
    "height_and_weight_df.head()"
   ]
  },
  {
   "cell_type": "code",
   "execution_count": 72,
   "metadata": {},
   "outputs": [
    {
     "data": {
      "text/html": [
       "<div>\n",
       "<style>\n",
       "    .dataframe thead tr:only-child th {\n",
       "        text-align: right;\n",
       "    }\n",
       "\n",
       "    .dataframe thead th {\n",
       "        text-align: left;\n",
       "    }\n",
       "\n",
       "    .dataframe tbody tr th {\n",
       "        vertical-align: top;\n",
       "    }\n",
       "</style>\n",
       "<table border=\"1\" class=\"dataframe\">\n",
       "  <thead>\n",
       "    <tr style=\"text-align: right;\">\n",
       "      <th></th>\n",
       "      <th>playerID</th>\n",
       "      <th>birthYear</th>\n",
       "      <th>height</th>\n",
       "      <th>weight</th>\n",
       "      <th>period</th>\n",
       "    </tr>\n",
       "  </thead>\n",
       "  <tbody>\n",
       "    <tr>\n",
       "      <th>0</th>\n",
       "      <td>aardsda01</td>\n",
       "      <td>1981.0</td>\n",
       "      <td>75.0</td>\n",
       "      <td>215.0</td>\n",
       "      <td>&gt;=1980</td>\n",
       "    </tr>\n",
       "    <tr>\n",
       "      <th>1</th>\n",
       "      <td>aaronha01</td>\n",
       "      <td>1934.0</td>\n",
       "      <td>72.0</td>\n",
       "      <td>180.0</td>\n",
       "      <td>[1900,1940)</td>\n",
       "    </tr>\n",
       "    <tr>\n",
       "      <th>2</th>\n",
       "      <td>aaronto01</td>\n",
       "      <td>1939.0</td>\n",
       "      <td>75.0</td>\n",
       "      <td>190.0</td>\n",
       "      <td>[1900,1940)</td>\n",
       "    </tr>\n",
       "    <tr>\n",
       "      <th>3</th>\n",
       "      <td>aasedo01</td>\n",
       "      <td>1954.0</td>\n",
       "      <td>75.0</td>\n",
       "      <td>190.0</td>\n",
       "      <td>[1940,1980)</td>\n",
       "    </tr>\n",
       "    <tr>\n",
       "      <th>4</th>\n",
       "      <td>abadan01</td>\n",
       "      <td>1972.0</td>\n",
       "      <td>73.0</td>\n",
       "      <td>184.0</td>\n",
       "      <td>[1940,1980)</td>\n",
       "    </tr>\n",
       "  </tbody>\n",
       "</table>\n",
       "</div>"
      ],
      "text/plain": [
       "    playerID  birthYear  height  weight       period\n",
       "0  aardsda01     1981.0    75.0   215.0       >=1980\n",
       "1  aaronha01     1934.0    72.0   180.0  [1900,1940)\n",
       "2  aaronto01     1939.0    75.0   190.0  [1900,1940)\n",
       "3   aasedo01     1954.0    75.0   190.0  [1940,1980)\n",
       "4   abadan01     1972.0    73.0   184.0  [1940,1980)"
      ]
     },
     "execution_count": 72,
     "metadata": {},
     "output_type": "execute_result"
    }
   ],
   "source": [
    "# 根据运动员的出生年份划分几个区间\n",
    "# 1900年之前、1900年到1940年、1940年到1980年、1980年之后\n",
    "\n",
    "def convert_birthyear(birthyear):\n",
    "    if birthyear < 1900:\n",
    "        return '<1900'\n",
    "    elif birthyear < 1940:\n",
    "        return '[1900,1940)'\n",
    "    elif birthyear < 1980:\n",
    "        return '[1940,1980)'\n",
    "    else:\n",
    "        return '>=1980'\n",
    "\n",
    "height_and_weight = height_and_weight_df\n",
    "period = height_and_weight_df['birthYear'].apply(convert_birthyear)\n",
    "height_and_weight = height_and_weight.assign(period=period.values)\n",
    "\n",
    "height_and_weight.head()"
   ]
  },
  {
   "cell_type": "code",
   "execution_count": 73,
   "metadata": {},
   "outputs": [
    {
     "data": {
      "text/html": [
       "<div>\n",
       "<style>\n",
       "    .dataframe thead tr:only-child th {\n",
       "        text-align: right;\n",
       "    }\n",
       "\n",
       "    .dataframe thead th {\n",
       "        text-align: left;\n",
       "    }\n",
       "\n",
       "    .dataframe tbody tr th {\n",
       "        vertical-align: top;\n",
       "    }\n",
       "</style>\n",
       "<table border=\"1\" class=\"dataframe\">\n",
       "  <thead>\n",
       "    <tr style=\"text-align: right;\">\n",
       "      <th></th>\n",
       "      <th>playerID</th>\n",
       "      <th>birthYear</th>\n",
       "      <th>height</th>\n",
       "      <th>weight</th>\n",
       "      <th>period</th>\n",
       "    </tr>\n",
       "  </thead>\n",
       "  <tbody>\n",
       "    <tr>\n",
       "      <th>0</th>\n",
       "      <td>aardsda01</td>\n",
       "      <td>1981.0</td>\n",
       "      <td>190.50</td>\n",
       "      <td>97.522366</td>\n",
       "      <td>&gt;=1980</td>\n",
       "    </tr>\n",
       "    <tr>\n",
       "      <th>1</th>\n",
       "      <td>aaronha01</td>\n",
       "      <td>1934.0</td>\n",
       "      <td>182.88</td>\n",
       "      <td>81.646632</td>\n",
       "      <td>[1900,1940)</td>\n",
       "    </tr>\n",
       "    <tr>\n",
       "      <th>2</th>\n",
       "      <td>aaronto01</td>\n",
       "      <td>1939.0</td>\n",
       "      <td>190.50</td>\n",
       "      <td>86.182556</td>\n",
       "      <td>[1900,1940)</td>\n",
       "    </tr>\n",
       "    <tr>\n",
       "      <th>3</th>\n",
       "      <td>aasedo01</td>\n",
       "      <td>1954.0</td>\n",
       "      <td>190.50</td>\n",
       "      <td>86.182556</td>\n",
       "      <td>[1940,1980)</td>\n",
       "    </tr>\n",
       "    <tr>\n",
       "      <th>4</th>\n",
       "      <td>abadan01</td>\n",
       "      <td>1972.0</td>\n",
       "      <td>185.42</td>\n",
       "      <td>83.461002</td>\n",
       "      <td>[1940,1980)</td>\n",
       "    </tr>\n",
       "  </tbody>\n",
       "</table>\n",
       "</div>"
      ],
      "text/plain": [
       "    playerID  birthYear  height     weight       period\n",
       "0  aardsda01     1981.0  190.50  97.522366       >=1980\n",
       "1  aaronha01     1934.0  182.88  81.646632  [1900,1940)\n",
       "2  aaronto01     1939.0  190.50  86.182556  [1900,1940)\n",
       "3   aasedo01     1954.0  190.50  86.182556  [1940,1980)\n",
       "4   abadan01     1972.0  185.42  83.461002  [1940,1980)"
      ]
     },
     "execution_count": 73,
     "metadata": {},
     "output_type": "execute_result"
    }
   ],
   "source": [
    "# 由于不太熟悉pound和inch，转换一下单位\n",
    "\n",
    "# weight Player's weight in pounds  # 把体重单位换为kg\n",
    "# height Player's height in inches  # 把身高单位换为cm\n",
    "# 1 pound = 0.4535924 kg\n",
    "# 1 inch = 2.54 cm\n",
    "\n",
    "def convert_unit(column):\n",
    "    if column.name == \"weight\":\n",
    "        return column * 0.4535924\n",
    "    elif column.name == \"height\":\n",
    "        return column * 2.54\n",
    "    else:\n",
    "        return column\n",
    "\n",
    "height_and_weight = height_and_weight.apply(convert_unit)\n",
    "height_and_weight.head()"
   ]
  },
  {
   "cell_type": "markdown",
   "metadata": {},
   "source": [
    "### 数据探索阶段"
   ]
  },
  {
   "cell_type": "markdown",
   "metadata": {},
   "source": [
    "#### * 球员的出生月份"
   ]
  },
  {
   "cell_type": "markdown",
   "metadata": {},
   "source": [
    "值得一提的是，通过搜索得知，美国所有非学生组棒球队年龄分组日为7月31日，这也意味着，一个小选手如果他的出生日期恰好在7月31日以前，那么他将和其他比他大12个月之内的选手们分到同一年龄组，在青少年选手中，他的身体发育和心理成熟度相比于其他人的差异是不可忽视的。在未来不断的训练竞争和比赛中，劣势可能不断的累积。而一个恰好在8月出生的球员，由于在他的组别中生日最大，从一开始因发育凸显出的优势被放大，在今后的训练中，不断获得资源倾斜，积累优势，能够进入棒球职业联盟的几率大大增加。\n",
    "\n",
    "所以我们做出一个大胆的假设，在我们的职业棒球比赛数据中，7月31日以前临近月份出生的运动员，会明显少于7月31日以后临近月份出生的运动员。"
   ]
  },
  {
   "cell_type": "code",
   "execution_count": 74,
   "metadata": {},
   "outputs": [
    {
     "data": {
      "text/plain": [
       "birthMonth\n",
       "1.0     1631\n",
       "2.0     1439\n",
       "3.0     1528\n",
       "4.0     1450\n",
       "5.0     1449\n",
       "6.0     1366\n",
       "7.0     1503\n",
       "8.0     1831\n",
       "9.0     1661\n",
       "10.0    1759\n",
       "11.0    1620\n",
       "12.0    1566\n",
       "dtype: int64"
      ]
     },
     "execution_count": 74,
     "metadata": {},
     "output_type": "execute_result"
    }
   ],
   "source": [
    "# 首先对master_df按出生月份分组，并返回group size\n",
    "\n",
    "grouped_by_birthmonth = birthmonth_df.groupby(['birthMonth'],as_index=True).size()\n",
    "grouped_by_birthmonth"
   ]
  },
  {
   "cell_type": "code",
   "execution_count": 75,
   "metadata": {},
   "outputs": [
    {
     "data": {
      "text/plain": [
       "<matplotlib.axes._subplots.AxesSubplot at 0x118b4f510>"
      ]
     },
     "execution_count": 75,
     "metadata": {},
     "output_type": "execute_result"
    },
    {
     "data": {
      "image/png": "[encoded data removed]",
      "text/plain": [
       "<matplotlib.figure.Figure at 0x118f9b550>"
      ]
     },
     "metadata": {},
     "output_type": "display_data"
    }
   ],
   "source": [
    "grouped_by_birthmonth.plot(kind='bar')"
   ]
  },
  {
   "cell_type": "markdown",
   "metadata": {},
   "source": [
    "从图中可以观察到，职业棒球运动员的出生最多的月份为8月，但并不能完全证明是分组日对这一现象的影响。不过出现和之前假设相似的结果，还是有“马太效应”造成影响的可能性。"
   ]
  },
  {
   "cell_type": "markdown",
   "metadata": {},
   "source": [
    "#### * 运动员的身高体重"
   ]
  },
  {
   "cell_type": "code",
   "execution_count": 85,
   "metadata": {},
   "outputs": [
    {
     "data": {
      "text/plain": [
       "183.61419365478"
      ]
     },
     "execution_count": 85,
     "metadata": {},
     "output_type": "execute_result"
    }
   ],
   "source": [
    "# 运动员的平均身高 unit=cm\n",
    "height_and_weight['height'].mean()"
   ]
  },
  {
   "cell_type": "code",
   "execution_count": 86,
   "metadata": {},
   "outputs": [
    {
     "data": {
      "text/plain": [
       "84.57002965580152"
      ]
     },
     "execution_count": 86,
     "metadata": {},
     "output_type": "execute_result"
    }
   ],
   "source": [
    "# 运动员的平均体重 unit=kg\n",
    "height_and_weight['weight'].mean()"
   ]
  },
  {
   "cell_type": "code",
   "execution_count": 87,
   "metadata": {},
   "outputs": [
    {
     "data": {
      "text/html": [
       "<div>\n",
       "<style>\n",
       "    .dataframe thead tr:only-child th {\n",
       "        text-align: right;\n",
       "    }\n",
       "\n",
       "    .dataframe thead th {\n",
       "        text-align: left;\n",
       "    }\n",
       "\n",
       "    .dataframe tbody tr th {\n",
       "        vertical-align: top;\n",
       "    }\n",
       "</style>\n",
       "<table border=\"1\" class=\"dataframe\">\n",
       "  <thead>\n",
       "    <tr style=\"text-align: right;\">\n",
       "      <th></th>\n",
       "      <th>height</th>\n",
       "      <th>weight</th>\n",
       "    </tr>\n",
       "    <tr>\n",
       "      <th>period</th>\n",
       "      <th></th>\n",
       "      <th></th>\n",
       "    </tr>\n",
       "  </thead>\n",
       "  <tbody>\n",
       "    <tr>\n",
       "      <th>&lt;1900</th>\n",
       "      <td>178.601440</td>\n",
       "      <td>77.679562</td>\n",
       "    </tr>\n",
       "    <tr>\n",
       "      <th>&gt;=1980</th>\n",
       "      <td>187.297595</td>\n",
       "      <td>95.090602</td>\n",
       "    </tr>\n",
       "    <tr>\n",
       "      <th>[1900,1940)</th>\n",
       "      <td>182.809656</td>\n",
       "      <td>82.145657</td>\n",
       "    </tr>\n",
       "    <tr>\n",
       "      <th>[1940,1980)</th>\n",
       "      <td>186.172766</td>\n",
       "      <td>86.693830</td>\n",
       "    </tr>\n",
       "  </tbody>\n",
       "</table>\n",
       "</div>"
      ],
      "text/plain": [
       "                 height     weight\n",
       "period                            \n",
       "<1900        178.601440  77.679562\n",
       ">=1980       187.297595  95.090602\n",
       "[1900,1940)  182.809656  82.145657\n",
       "[1940,1980)  186.172766  86.693830"
      ]
     },
     "execution_count": 87,
     "metadata": {},
     "output_type": "execute_result"
    }
   ],
   "source": [
    "# 按照period进行分组\n",
    "\n",
    "grouped_height_and_weight = height_and_weight.groupby(['period'],as_index=True)\n",
    "grouped_height_and_weight['height','weight'].mean()"
   ]
  },
  {
   "cell_type": "code",
   "execution_count": 103,
   "metadata": {},
   "outputs": [
    {
     "data": {
      "image/png": "[encoded data removed]",
      "text/plain": [
       "<matplotlib.figure.Figure at 0x11d75bfd0>"
      ]
     },
     "metadata": {},
     "output_type": "display_data"
    }
   ],
   "source": [
    "figure = plt.figure(figsize=(13, 7))\n",
    "ax = sns.boxplot(x=\"period\", y=\"height\", data=height_and_weight, order=['<1900','[1900,1940)','[1940,1980)','>=1980'])\n",
    "texts = ax.set(xlabel='Birth period', ylabel='height (cm)', title='height distribution of baseball players')"
   ]
  },
  {
   "cell_type": "code",
   "execution_count": 104,
   "metadata": {},
   "outputs": [
    {
     "data": {
      "image/png": "[encoded data removed]",
      "text/plain": [
       "<matplotlib.figure.Figure at 0x11c983210>"
      ]
     },
     "metadata": {},
     "output_type": "display_data"
    }
   ],
   "source": [
    "figure = plt.figure(figsize=(13, 7))\n",
    "ax = sns.boxplot(x=\"period\", y=\"weight\", data=height_and_weight,order=['<1900','[1900,1940)','[1940,1980)','>=1980'])\n",
    "texts = ax.set(xlabel='Birth period', ylabel='Weight (kg)', title='Weight distribution of baseball players')"
   ]
  },
  {
   "cell_type": "markdown",
   "metadata": {},
   "source": [
    "从箱线图中可以观察到，随时间的变化，职业棒球运动员也有平均身高和平均体重增长的趋势。我们可以观察到，在身高和体重的分布中均有一些outliers在分布在max的位置。"
   ]
  },
  {
   "cell_type": "markdown",
   "metadata": {},
   "source": [
    "### 结论阶段"
   ]
  },
  {
   "cell_type": "markdown",
   "metadata": {},
   "source": [
    "1、 关于棒球运动员出生月份的问题，统计结果显示更多的运动员出生在8月，即年轻运动员分组日（7月31日）之后，印证了此前关于分组日对进入到职业联盟的棒球运动员影响的假设，会使得刚好在分组日之后出生的运动员有一定的优势。但不能说明二者有因果关系，还有很多其他主要因素的影响，这里只是提出一个想法，只能说存在相关的可能性。\n",
    "\n",
    "2、 从棒球运动员的身高体重来看，平均身高183.61cm，平均体重84.57kg，如果有其他体育项目运动员的身高体重数据，就可以发现不同项目运动员身材的差异。另外，随时间的变化，目前数据中，晚出生的运动员较之前出生运动员，平均身高更高，平均体重更重。"
   ]
  },
  {
   "cell_type": "markdown",
   "metadata": {},
   "source": [
    "### 参考\n",
    "\n",
    "* 《Python for Data Analysis》\n",
    "\n",
    "\n",
    "* 解决问题：\n",
    "* google.com\n",
    "* stackoverflow.com\n",
    "* udacity\n",
    "* pandas/sns等官方文档"
   ]
  },
  {
   "cell_type": "code",
   "execution_count": null,
   "metadata": {
    "collapsed": true
   },
   "outputs": [],
   "source": []
  }
 ],
 "metadata": {
  "kernelspec": {
   "display_name": "Python 2",
   "language": "python",
   "name": "python2"
  },
  "language_info": {
   "codemirror_mode": {
    "name": "ipython",
    "version": 2
   },
   "file_extension": ".py",
   "mimetype": "text/x-python",
   "name": "python",
   "nbconvert_exporter": "python",
   "pygments_lexer": "ipython2",
   "version": "2.7.13"
  }
 },
 "nbformat": 4,
 "nbformat_minor": 2
}
